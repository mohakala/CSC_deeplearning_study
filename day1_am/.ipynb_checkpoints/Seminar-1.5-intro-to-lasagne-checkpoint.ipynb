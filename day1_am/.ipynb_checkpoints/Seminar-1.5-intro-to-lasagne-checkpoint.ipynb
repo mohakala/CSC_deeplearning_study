{
 "cells": [
  {
   "cell_type": "markdown",
   "metadata": {
    "deletable": true,
    "editable": true
   },
   "source": [
    "# lasagne\n",
    "* lasagne is a library for neural network building and training\n",
    "* it's a low-level library with almost seamless integration with theano\n",
    "\n",
    "For a demo we shall solve the same digit recognition problem, but at a different scale\n",
    "* images are now 28x28\n",
    "* 10 different digits\n",
    "* 50k samples"
   ]
  },
  {
   "cell_type": "code",
   "execution_count": null,
   "metadata": {
    "collapsed": true,
    "deletable": true,
    "editable": true
   },
   "outputs": [],
   "source": []
  },
  {
   "cell_type": "code",
   "execution_count": 28,
   "metadata": {
    "collapsed": false,
    "deletable": true,
    "editable": true
   },
   "outputs": [],
   "source": [
    "#!nvidia-smi"
   ]
  },
  {
   "cell_type": "code",
   "execution_count": 8,
   "metadata": {
    "collapsed": false,
    "deletable": true,
    "editable": true
   },
   "outputs": [
    {
     "name": "stdout",
     "output_type": "stream",
     "text": [
      "env: THEANOI_FLAGS=device_gpu,floatX=float32\n"
     ]
    }
   ],
   "source": [
    "%env THEANOI_FLAGS=device_gpu,floatX=float32"
   ]
  },
  {
   "cell_type": "code",
   "execution_count": 1,
   "metadata": {
    "collapsed": false,
    "deletable": true,
    "editable": true
   },
   "outputs": [],
   "source": [
    "import numpy as np\n",
    "import theano\n",
    "import theano.tensor as T\n",
    "import matplotlib.pyplot as plt\n",
    "%matplotlib inline"
   ]
  },
  {
   "cell_type": "code",
   "execution_count": 2,
   "metadata": {
    "collapsed": false,
    "deletable": true,
    "editable": true
   },
   "outputs": [
    {
     "name": "stdout",
     "output_type": "stream",
     "text": [
      "Downloading train-images-idx3-ubyte.gz\n",
      "Downloading train-labels-idx1-ubyte.gz\n",
      "Downloading t10k-images-idx3-ubyte.gz\n",
      "Downloading t10k-labels-idx1-ubyte.gz\n",
      "(50000, 1, 28, 28) (50000,)\n"
     ]
    }
   ],
   "source": [
    "from mnist import load_dataset\n",
    "X_train, y_train, X_val, y_val, X_test, y_test = load_dataset()\n",
    "print (X_train.shape, y_train.shape)"
   ]
  },
  {
   "cell_type": "code",
   "execution_count": 3,
   "metadata": {
    "collapsed": false,
    "deletable": true,
    "editable": true
   },
   "outputs": [],
   "source": [
    "input_X = T.tensor4(\"X\")\n",
    "\n",
    "#input dimension (None means \"Arbitrary\" and only works at the first axes [samples])\n",
    "input_shape = [None, 1, 28, 28]\n",
    "\n",
    "target_y = T.vector(\"target Y integer\", dtype='int32')"
   ]
  },
  {
   "cell_type": "markdown",
   "metadata": {
    "deletable": true,
    "editable": true
   },
   "source": [
    "Defining network architecture"
   ]
  },
  {
   "cell_type": "code",
   "execution_count": 5,
   "metadata": {
    "collapsed": false,
    "deletable": true,
    "editable": true
   },
   "outputs": [],
   "source": [
    "import lasagne\n",
    "from lasagne.layers import *\n",
    "\n",
    "#Input layer (auxilary)\n",
    "l1 = InputLayer(shape = input_shape, input_var=input_X)\n",
    "\n",
    "#fully connected layer, that takes input layer and applies 50 neurons to it.\n",
    "# nonlinearity here is sigmoid as in logistic regression\n",
    "# you can give a name to each layer (optional)\n",
    "##l2 = DenseLayer(l1,num_units=50,nonlinearity = lambda x: 1./(1.+2.71**-x))\n",
    "\n",
    "# This OK:\n",
    "l2 = DenseLayer(l1,num_units=50, nonlinearity = lasagne.nonlinearities.sigmoid, name='dense1')\n",
    "l2 = DropoutLayer(l2, p=0.25)\n",
    "l3 = DenseLayer(l2, num_units=500, nonlinearity=lasagne.nonlinearities.tanh)\n",
    "l_out = DenseLayer(l3, num_units=10, nonlinearity=lasagne.nonlinearities.softmax)\n",
    "\n",
    "\n",
    "#Improve by convoluting\n",
    "#l2=Conv2DLayer(l1,32,(3,3),nonlinearity=lasagne.nonlinearities.sigmoid)\n",
    "#l3=Pool2DLayer(l2,(2,2))\n",
    "#l4=DenseLayer(l3,512,nonlinearity=lasagne.nonlinearities.sigmoid)\n",
    "#l4=DropoutLayer(l4,0.5)\n",
    "\n",
    "#fully connected output layer that takes dense_1 as input and has 10 neurons (1 for each digit)\n",
    "#We use softmax nonlinearity to make probabilities add up to 1\n",
    "#l_out = DenseLayer(l4,num_units = 10,nonlinearity=lasagne.nonlinearities.softmax)\n"
   ]
  },
  {
   "cell_type": "code",
   "execution_count": 6,
   "metadata": {
    "collapsed": false,
    "deletable": true,
    "editable": true
   },
   "outputs": [],
   "source": [
    "#network prediction (theano-transformation)\n",
    "#y_predicted = lasagne.layers.get_output(l_out)\n",
    "y_predicted = lasagne.layers.get_output(l_out, deterministic=True)  # added deterministic=True"
   ]
  },
  {
   "cell_type": "code",
   "execution_count": 7,
   "metadata": {
    "collapsed": false,
    "deletable": true,
    "editable": true
   },
   "outputs": [],
   "source": [
    "#theano.printing.debugprint(y_predicted)"
   ]
  },
  {
   "cell_type": "code",
   "execution_count": 8,
   "metadata": {
    "collapsed": false,
    "deletable": true,
    "editable": true
   },
   "outputs": [
    {
     "name": "stdout",
     "output_type": "stream",
     "text": [
      "[dense1.W, dense1.b, W, b, W, b]\n"
     ]
    }
   ],
   "source": [
    "#all network weights (shared variables)\n",
    "all_weights = lasagne.layers.get_all_params(l_out)\n",
    "print(all_weights)"
   ]
  },
  {
   "cell_type": "markdown",
   "metadata": {
    "deletable": true,
    "editable": true
   },
   "source": [
    "### Than you could simply\n",
    "* define loss function manually\n",
    "* compute error gradient over all weights\n",
    "* define updates\n",
    "* But that's a whole lot of work and life's short\n",
    "  * not to mention life's too short to wait for SGD to converge\n",
    "\n",
    "Instead, we shall use Lasagne builtins"
   ]
  },
  {
   "cell_type": "code",
   "execution_count": 33,
   "metadata": {
    "collapsed": true
   },
   "outputs": [],
   "source": [
    "# Not available?!, copy-pasted for now below from https://github.com/Lasagne/Lasagne/blob/master/lasagne/objectives.py \n",
    "\"\"\"def categorical_accuracy(predictions, targets, top_k=1):\n",
    "    \"\"\"Computes the categorical accuracy between predictions and targets.\n",
    "    .. math:: L_i = \\\\mathbb{I}(t_i = \\\\operatorname{argmax}_c p_{i,c})\n",
    "    Can be relaxed to allow matches among the top :math:`k` predictions:\n",
    "    .. math::\n",
    "        L_i = \\\\mathbb{I}(t_i \\\\in \\\\operatorname{argsort}_c (-p_{i,c})_{:k})\n",
    "    Parameters\n",
    "    ----------\n",
    "    predictions : Theano 2D tensor\n",
    "        Predictions in (0, 1), such as softmax output of a neural network,\n",
    "        with data points in rows and class probabilities in columns.\n",
    "    targets : Theano 2D tensor or 1D tensor\n",
    "        Either a vector of int giving the correct class index per data point\n",
    "        or a 2D tensor of 1 hot encoding of the correct class in the same\n",
    "        layout as predictions\n",
    "    top_k : int\n",
    "        Regard a prediction to be correct if the target class is among the\n",
    "        `top_k` largest class probabilities. For the default value of 1, a\n",
    "        prediction is correct only if the target class is the most probable.\n",
    "    Returns\n",
    "    -------\n",
    "    Theano 1D tensor\n",
    "        An expression for the item-wise categorical accuracy in {0, 1}\n",
    "    Notes\n",
    "    -----\n",
    "    This is a strictly non differential function as it includes an argmax.\n",
    "    This objective function should never be used with a gradient calculation.\n",
    "    It is intended as a convenience for validation and testing not training.\n",
    "    To obtain the average accuracy, call :func:`theano.tensor.mean()` on the\n",
    "    result, passing ``dtype=theano.config.floatX`` to compute the mean on GPU.\n",
    "    \"\"\"\n",
    "    if targets.ndim == predictions.ndim:\n",
    "        targets = theano.tensor.argmax(targets, axis=-1)\n",
    "    elif targets.ndim != predictions.ndim - 1:\n",
    "        raise TypeError('rank mismatch between targets and predictions')\n",
    "\n",
    "    if top_k == 1:\n",
    "        # standard categorical accuracy\n",
    "        top = theano.tensor.argmax(predictions, axis=-1)\n",
    "        return theano.tensor.eq(top, targets)\n",
    "    else:\n",
    "        # top-k accuracy\n",
    "        top = theano.tensor.argsort(predictions, axis=-1)\n",
    "        # (Theano cannot index with [..., -top_k:], we need to simulate that)\n",
    "        top = top[[slice(None) for _ in range(top.ndim - 1)] +\n",
    "                  [slice(-top_k, None)]]\n",
    "        targets = theano.tensor.shape_padaxis(targets, axis=-1)\n",
    "        return theano.tensor.any(theano.tensor.eq(top, targets), axis=-1)\n",
    "\"\"\""
   ]
  },
  {
   "cell_type": "code",
   "execution_count": 12,
   "metadata": {
    "collapsed": false,
    "deletable": true,
    "editable": true
   },
   "outputs": [
    {
     "name": "stdout",
     "output_type": "stream",
     "text": [
      "acc, loss: mean mean\n"
     ]
    }
   ],
   "source": [
    "#Mean categorical crossentropy as a loss function - similar to logistic loss but for multiclass targets\n",
    "loss = lasagne.objectives.categorical_crossentropy(y_predicted, target_y).mean()\n",
    "# MH: tested additionally this, but it's extra\n",
    "# MH: loss = T.nnet.categorical_crossentropy(y_predicted, target_y).mean()\n",
    "\n",
    "#MH: Installed the latest lasagne with pip installl\n",
    "accuracy = lasagne.objectives.categorical_accuracy(y_predicted, target_y).mean()\n",
    "#MH: If not installed, newest version from https://github.com/Lasagne/Lasagne/blob/master/lasagne/objectives.py \n",
    "\n",
    "print('acc, loss:', accuracy, loss)\n",
    "\n",
    "#This function computes gradient AND composes weight updates just like you did earlier\n",
    "#updates_sgd = lasagne.updates.sgd(loss, all_weights,learning_rate=0.01)\n",
    "updates_sgd = lasagne.updates.rmsprop(loss, all_weights, learning_rate=0.01)"
   ]
  },
  {
   "cell_type": "code",
   "execution_count": 13,
   "metadata": {
    "collapsed": false,
    "deletable": true,
    "editable": true
   },
   "outputs": [],
   "source": [
    "#function that computes loss and updates weights\n",
    "train_fun = theano.function([input_X,target_y],[loss,accuracy],updates= updates_sgd)\n",
    "\n",
    "#function that just computes accuracy\n",
    "accuracy_fun = theano.function([input_X,target_y],accuracy)"
   ]
  },
  {
   "cell_type": "markdown",
   "metadata": {
    "deletable": true,
    "editable": true
   },
   "source": [
    "### That's all, now let's train it!\n",
    "* We got a lot of data, so it's recommended that you use SGD\n",
    "* So let's implement a function that splits the training sample into minibatches"
   ]
  },
  {
   "cell_type": "code",
   "execution_count": 14,
   "metadata": {
    "collapsed": true,
    "deletable": true,
    "editable": true
   },
   "outputs": [],
   "source": [
    "# An auxilary function that returns mini-batches for neural network training\n",
    "\n",
    "#Parameters\n",
    "# inputs - a tensor of images with shape (many, 1, 28, 28), e.g. X_train\n",
    "# outputs - a vector of answers for corresponding images e.g. Y_train\n",
    "#batch_size - a single number - the intended size of each batches\n",
    "\n",
    "def iterate_minibatches(inputs, targets, batchsize):\n",
    "    assert len(inputs) == len(targets)\n",
    "    indices = np.arange(len(inputs))\n",
    "    np.random.shuffle(indices)\n",
    "    for start_idx in range(0, len(inputs) - batchsize + 1, batchsize):\n",
    "        excerpt = indices[start_idx:start_idx + batchsize]\n",
    "        yield inputs[excerpt], targets[excerpt]"
   ]
  },
  {
   "cell_type": "markdown",
   "metadata": {
    "deletable": true,
    "editable": true
   },
   "source": [
    "# Training loop"
   ]
  },
  {
   "cell_type": "code",
   "execution_count": 15,
   "metadata": {
    "collapsed": false,
    "deletable": true,
    "editable": true,
    "scrolled": true
   },
   "outputs": [
    {
     "name": "stdout",
     "output_type": "stream",
     "text": [
      "Epoch 1 of 10 took 8.838s\n",
      "  training loss (in-iteration):\t\t0.351991\n",
      "  train accuracy:\t\t89.73 %\n",
      "  validation accuracy:\t\t95.29 %\n",
      "Epoch 2 of 10 took 8.229s\n",
      "  training loss (in-iteration):\t\t0.177389\n",
      "  train accuracy:\t\t94.95 %\n",
      "  validation accuracy:\t\t95.95 %\n",
      "Epoch 3 of 10 took 7.567s\n",
      "  training loss (in-iteration):\t\t0.137934\n",
      "  train accuracy:\t\t96.11 %\n",
      "  validation accuracy:\t\t96.30 %\n",
      "Epoch 4 of 10 took 7.621s\n",
      "  training loss (in-iteration):\t\t0.115592\n",
      "  train accuracy:\t\t96.70 %\n",
      "  validation accuracy:\t\t96.46 %\n",
      "Epoch 5 of 10 took 7.529s\n",
      "  training loss (in-iteration):\t\t0.102679\n",
      "  train accuracy:\t\t97.04 %\n",
      "  validation accuracy:\t\t96.93 %\n",
      "Epoch 6 of 10 took 7.538s\n",
      "  training loss (in-iteration):\t\t0.092036\n",
      "  train accuracy:\t\t97.36 %\n",
      "  validation accuracy:\t\t96.56 %\n",
      "Epoch 7 of 10 took 7.414s\n",
      "  training loss (in-iteration):\t\t0.085839\n",
      "  train accuracy:\t\t97.52 %\n",
      "  validation accuracy:\t\t96.90 %\n",
      "Epoch 8 of 10 took 7.542s\n",
      "  training loss (in-iteration):\t\t0.074913\n",
      "  train accuracy:\t\t97.79 %\n",
      "  validation accuracy:\t\t96.87 %\n",
      "Epoch 9 of 10 took 7.450s\n",
      "  training loss (in-iteration):\t\t0.069452\n",
      "  train accuracy:\t\t98.01 %\n",
      "  validation accuracy:\t\t96.60 %\n",
      "Epoch 10 of 10 took 7.504s\n",
      "  training loss (in-iteration):\t\t0.065740\n",
      "  train accuracy:\t\t98.11 %\n",
      "  validation accuracy:\t\t96.83 %\n"
     ]
    }
   ],
   "source": [
    "import time\n",
    "\n",
    "#num_epochs = 100 #amount of passes through the data\n",
    "num_epochs = 10 #amount of passes through the data\n",
    "\n",
    "batch_size = 50 #number of samples processed at each function call\n",
    "\n",
    "for epoch in range(num_epochs):\n",
    "    # In each epoch, we do a full pass over the training data:\n",
    "    train_err = 0\n",
    "    train_acc = 0\n",
    "    train_batches = 0\n",
    "    start_time = time.time()\n",
    "    for batch in iterate_minibatches(X_train, y_train,batch_size):\n",
    "        inputs, targets = batch\n",
    "        train_err_batch, train_acc_batch= train_fun(inputs, targets)\n",
    "        train_err += train_err_batch\n",
    "        train_acc += train_acc_batch\n",
    "        train_batches += 1\n",
    "\n",
    "    # And a full pass over the validation data:\n",
    "    val_acc = 0\n",
    "    val_batches = 0\n",
    "    for batch in iterate_minibatches(X_val, y_val, batch_size):\n",
    "        inputs, targets = batch\n",
    "        val_acc += accuracy_fun(inputs, targets)\n",
    "        val_batches += 1\n",
    "\n",
    "    \n",
    "    # Then we print the results for this epoch:\n",
    "    print(\"Epoch {} of {} took {:.3f}s\".format(\n",
    "        epoch + 1, num_epochs, time.time() - start_time))\n",
    "\n",
    "    print(\"  training loss (in-iteration):\\t\\t{:.6f}\".format(train_err / train_batches))\n",
    "    print(\"  train accuracy:\\t\\t{:.2f} %\".format(\n",
    "        train_acc / train_batches * 100))\n",
    "    print(\"  validation accuracy:\\t\\t{:.2f} %\".format(\n",
    "        val_acc / val_batches * 100))"
   ]
  },
  {
   "cell_type": "code",
   "execution_count": 16,
   "metadata": {
    "collapsed": false,
    "deletable": true,
    "editable": true
   },
   "outputs": [
    {
     "name": "stdout",
     "output_type": "stream",
     "text": [
      "Final results:\n",
      "  test accuracy:\t\t96.83 %\n",
      "We need more magic!\n"
     ]
    }
   ],
   "source": [
    "test_acc = 0\n",
    "test_batches = 0\n",
    "for batch in iterate_minibatches(X_test, y_test, 500):\n",
    "    inputs, targets = batch\n",
    "    acc = accuracy_fun(inputs, targets)\n",
    "    test_acc += acc\n",
    "    test_batches += 1\n",
    "print(\"Final results:\")\n",
    "print(\"  test accuracy:\\t\\t{:.2f} %\".format(\n",
    "    test_acc / test_batches * 100))\n",
    "\n",
    "if test_acc / test_batches * 100 > 99:\n",
    "    print (\"Achievement unlocked: 80lvl Warlock!\")\n",
    "else:\n",
    "    print (\"We need more magic!\")"
   ]
  },
  {
   "cell_type": "markdown",
   "metadata": {
    "collapsed": true,
    "deletable": true,
    "editable": true
   },
   "source": [
    "# Now improve it!\n",
    "\n",
    "* Moar layers!\n",
    "* Moar units!\n",
    "* Different nonlinearities!"
   ]
  }
 ],
 "metadata": {
  "kernelspec": {
   "display_name": "Python 3",
   "language": "python",
   "name": "python3"
  },
  "language_info": {
   "codemirror_mode": {
    "name": "ipython",
    "version": 3
   },
   "file_extension": ".py",
   "mimetype": "text/x-python",
   "name": "python",
   "nbconvert_exporter": "python",
   "pygments_lexer": "ipython3",
   "version": "3.5.2"
  }
 },
 "nbformat": 4,
 "nbformat_minor": 0
}
