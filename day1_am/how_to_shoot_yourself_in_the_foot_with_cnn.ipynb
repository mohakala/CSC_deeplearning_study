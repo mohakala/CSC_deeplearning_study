{
 "cells": [
  {
   "cell_type": "code",
   "execution_count": 2,
   "metadata": {
    "collapsed": false,
    "deletable": true,
    "editable": true
   },
   "outputs": [],
   "source": [
    "from lasagne.layers import *\n",
    "from lasagne.nonlinearities import *\n",
    "from lasagne import init"
   ]
  },
  {
   "cell_type": "code",
   "execution_count": 12,
   "metadata": {
    "collapsed": false,
    "deletable": true,
    "editable": true
   },
   "outputs": [
    {
     "name": "stdout",
     "output_type": "stream",
     "text": [
      "(None, 10)\n"
     ]
    },
    {
     "ename": "Exception",
     "evalue": "asas",
     "output_type": "error",
     "traceback": [
      "\u001b[0;31m---------------------------------------------------------------------------\u001b[0m",
      "\u001b[0;31mException\u001b[0m                                 Traceback (most recent call last)",
      "\u001b[0;32m<ipython-input-12-cd8e386495ea>\u001b[0m in \u001b[0;36m<module>\u001b[0;34m()\u001b[0m\n\u001b[1;32m     54\u001b[0m \u001b[0;34m\u001b[0m\u001b[0m\n\u001b[1;32m     55\u001b[0m \u001b[0mprint\u001b[0m\u001b[0;34m(\u001b[0m\u001b[0mget_output_shape\u001b[0m\u001b[0;34m(\u001b[0m\u001b[0mnn\u001b[0m\u001b[0;34m)\u001b[0m\u001b[0;34m)\u001b[0m\u001b[0;34m\u001b[0m\u001b[0m\n\u001b[0;32m---> 56\u001b[0;31m \u001b[0;32mraise\u001b[0m \u001b[0mException\u001b[0m\u001b[0;34m(\u001b[0m\u001b[0;34m'asas'\u001b[0m\u001b[0;34m)\u001b[0m\u001b[0;34m\u001b[0m\u001b[0m\n\u001b[0m\u001b[1;32m     57\u001b[0m \u001b[0;34m\u001b[0m\u001b[0m\n",
      "\u001b[0;31mException\u001b[0m: asas"
     ]
    }
   ],
   "source": [
    "nn = InputLayer([None,3,100,100])\n",
    "\n",
    "#nn = Conv2DLayer(nn,num_filters=512, filter_size=(3,3),\n",
    "#                 W = init.Constant(0))\n",
    "nn = Conv2DLayer(nn,num_filters=32, filter_size=(3,3))\n",
    "\n",
    "# new\n",
    "nn = Pool2DLayer(nn,pool_size=(2,2))\n",
    "\n",
    "# new\n",
    "nn = Conv2DLayer(nn,num_filters=64, filter_size=(3,3))\n",
    "# new\n",
    "nn = Pool2DLayer(nn,pool_size=(2,2))\n",
    "\n",
    "# new\n",
    "nn = Conv2DLayer(nn,num_filters=128, filter_size=(3,3))\n",
    "# new\n",
    "nn = Pool2DLayer(nn,pool_size=(2,2), mode='max')\n",
    "\n",
    "\n",
    "# new\n",
    "nn = Conv2DLayer(nn,num_filters=256,filter_size=(3,3),\n",
    "                W = init.Normal(std=0.01))\n",
    "nn = Conv2DLayer(nn,num_filters=512,filter_size=(3,3),\n",
    "                W = init.Normal(std=0.01))\n",
    "\n",
    "\n",
    "\n",
    "#nn = Conv2DLayer(nn,num_filters=128,filter_size=(3,3),\n",
    "#                 W = init.Constant(0))\n",
    "\n",
    "#nn = Conv2DLayer(nn,num_filters=32,filter_size=(3,3),\n",
    "#                 W = init.Constant(0))\n",
    "\n",
    "#nn = Pool2DLayer(nn,pool_size=(6,6),mode='max')\n",
    "\n",
    "#nn = Conv2DLayer(nn,num_filters=8,filter_size=(10,10),\n",
    "#                W = init.Normal(std=0.01))\n",
    "\n",
    "#nn = Conv2DLayer(nn,num_filters=8,filter_size=(10,10),\n",
    "#                W = init.Normal(std=0.01))\n",
    "\n",
    "nn = Pool2DLayer(nn,pool_size=(3,3),mode='max')\n",
    "\n",
    "nn = DenseLayer(nn,512,nonlinearity=softmax) #softmax usually for logistic regression, but here cuts off all the gradients?\n",
    "\n",
    "nn = DropoutLayer(nn,p=0.5)\n",
    "\n",
    "#nn = DenseLayer(nn,512,nonlinearity=softmax)\n",
    "\n",
    "nn = DenseLayer(nn,10,nonlinearity=softmax) # softmax for classification\n",
    "\n",
    "nn = DropoutLayer(nn,p=0.5)\n",
    "\n",
    "print(get_output_shape(nn))\n",
    "raise Exception('asas')\n",
    "\n"
   ]
  },
  {
   "cell_type": "markdown",
   "metadata": {
    "deletable": true,
    "editable": true
   },
   "source": [
    "```\n",
    "\n",
    "```\n",
    "\n",
    "```\n",
    "\n",
    "```\n",
    "\n",
    "```\n",
    "\n",
    "```\n",
    "\n",
    "```\n",
    "\n",
    "```\n",
    "\n",
    "```\n",
    "\n",
    "```\n",
    "\n",
    "```\n",
    "\n",
    "```\n",
    "\n",
    "```\n",
    "\n",
    "```\n",
    "\n",
    "```\n",
    "\n",
    "```\n",
    "\n",
    "```\n",
    "\n",
    "```\n",
    "\n",
    "```\n",
    "\n",
    "```\n",
    "\n",
    "```\n",
    "\n",
    "```\n",
    "\n",
    "```\n",
    "\n",
    "```\n",
    "\n",
    "```\n",
    "\n",
    "```\n",
    "\n",
    "```\n",
    "\n",
    "```\n",
    "\n",
    "```\n",
    "\n",
    "```\n",
    "\n",
    "\n",
    "# Book of grudges\n",
    "* zero init for weights will cause symmetry effect\n",
    "* Too many filters for first 3x3 convolution - will lead to enormous matrix while there's just not enough relevant combinations of 3x3 images (overkill).\n",
    "* Usually the further you go, the more filters you need.\n",
    "* large filters (10x10 is generally a bad pactice, and you definitely need more than 10 of them\n",
    "* the second of 10x10 convolution gets 8x6x6 image as input, so it's technically unable to perform such convolution.\n",
    "* Softmax nonlinearity effectively makes only 1 or a few neurons from the entire layer to \"fire\", rendering 512-neuron layer almost useless. Softmax at the output layer is okay though\n",
    "* Dropout after probability prediciton is just lame. A few random classes get probability of 0, so your probabilities no longer sum to 1 and crossentropy goes -inf."
   ]
  },
  {
   "cell_type": "code",
   "execution_count": null,
   "metadata": {
    "collapsed": true,
    "deletable": true,
    "editable": true
   },
   "outputs": [],
   "source": []
  }
 ],
 "metadata": {
  "kernelspec": {
   "display_name": "Python 3",
   "language": "python",
   "name": "python3"
  },
  "language_info": {
   "codemirror_mode": {
    "name": "ipython",
    "version": 3
   },
   "file_extension": ".py",
   "mimetype": "text/x-python",
   "name": "python",
   "nbconvert_exporter": "python",
   "pygments_lexer": "ipython3",
   "version": "3.4.5"
  }
 },
 "nbformat": 4,
 "nbformat_minor": 0
}
