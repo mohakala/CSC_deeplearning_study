{
 "cells": [
  {
   "cell_type": "code",
   "execution_count": 1,
   "metadata": {
    "collapsed": false
   },
   "outputs": [
    {
     "name": "stdout",
     "output_type": "stream",
     "text": [
      "env: THEANO_FLAGS=device=cpu,floatX=float32\n"
     ]
    }
   ],
   "source": [
    "%env THEANO_FLAGS=device=cpu,floatX=float32"
   ]
  },
  {
   "cell_type": "code",
   "execution_count": 2,
   "metadata": {
    "collapsed": false,
    "deletable": true,
    "editable": true
   },
   "outputs": [],
   "source": [
    "import numpy as np\n",
    "import theano\n",
    "import theano.tensor as T\n",
    "import lasagne\n",
    "import os\n",
    "#thanks @keskarnitish"
   ]
  },
  {
   "cell_type": "markdown",
   "metadata": {
    "deletable": true,
    "editable": true
   },
   "source": [
    "# Generate names\n",
    "* Struggle to find a name for the variable? Let's see how you'll come up with a name for your son/daughter. Surely no human has expertize over what is a good child name, so let us train NN instead.\n",
    "* Dataset contains ~8k human names from different cultures[in latin transcript]\n",
    "* Objective (toy problem): learn a generative model over names."
   ]
  },
  {
   "cell_type": "code",
   "execution_count": 3,
   "metadata": {
    "collapsed": false,
    "deletable": true,
    "editable": true
   },
   "outputs": [],
   "source": [
    "start_token = \" \"\n",
    "\n",
    "with open(\"mtg_card_names.txt\") as f:\n",
    "    names = f.read()[:-1].split('\\n')\n",
    "    names = [start_token+name for name in names]\n",
    "    "
   ]
  },
  {
   "cell_type": "code",
   "execution_count": 4,
   "metadata": {
    "collapsed": false,
    "deletable": true,
    "editable": true
   },
   "outputs": [
    {
     "name": "stdout",
     "output_type": "stream",
     "text": [
      "n samples =  16714\n",
      " [1G] Instant: Moonmist\n",
      " [None] Land: Crystal Quarry\n",
      " [3GW] Legendary Enchantment Creature, God: Karametra, God of Harvests\n",
      " [2R] Creature, Human Rogue: Spireside Infiltrator\n",
      " [3R] Creature, Human Archer: Mardu Heart-Piercer\n",
      " [UB] Creature, Spirit: Dimir Infiltrator\n",
      " [2UU] Creature, Human Wizard: Lunar Mystic\n",
      " [3R] Creature, Goblin Artificer: Krark-Clan Engineers\n",
      " [4GG] Creature, Elemental Warrior: Root-Kin Ally\n",
      " [None] Land: Ancient Tomb\n",
      " [None] Plane, Ulgrotha: The Dark Barony\n",
      " [3U] Creature, Bird Wizard: Aven Fogbringer\n",
      " [5R] Creature, Djinn: Halam Djinn\n",
      " [3WW] Creature, Human: Veteran Bodyguard\n",
      " [2RRR] Creature, Human Berserker: Aerathi Berserker\n",
      " [None] Legendary Creature, Eldrazi Angel: Brisela, Voice of Nightmares\n",
      " [2U] Creature, Human Wizard: Apprentice Sorcerer\n"
     ]
    }
   ],
   "source": [
    "print ('n samples = ',len(names))\n",
    "for x in names[::1000]:\n",
    "    print (x)"
   ]
  },
  {
   "cell_type": "markdown",
   "metadata": {
    "deletable": true,
    "editable": true
   },
   "source": [
    "# Text processing"
   ]
  },
  {
   "cell_type": "code",
   "execution_count": 5,
   "metadata": {
    "collapsed": false,
    "deletable": true,
    "editable": true
   },
   "outputs": [
    {
     "name": "stdout",
     "output_type": "stream",
     "text": [
      "n_tokens =  78\n"
     ]
    }
   ],
   "source": [
    "#all unique characters go here\n",
    "#tokens = <all unique characters in the dataset>\n",
    "tokens =set([char for name in names for char in name])\n",
    "\n",
    "#alternative:\n",
    "#set(\"\".join(names)) TEST\n",
    "\n",
    "tokens = list(tokens)\n",
    "print ('n_tokens = ',len(tokens))\n"
   ]
  },
  {
   "cell_type": "code",
   "execution_count": 6,
   "metadata": {
    "collapsed": false
   },
   "outputs": [],
   "source": [
    "#tokens"
   ]
  },
  {
   "cell_type": "code",
   "execution_count": 7,
   "metadata": {
    "collapsed": false,
    "deletable": true,
    "editable": true
   },
   "outputs": [],
   "source": [
    "#!token_to_id = <dictionary of symbol -> its identifier (index in tokens list)>\n",
    "token_to_id = {t:i for i,t in enumerate(tokens) }\n",
    "\n",
    "#!id_to_token = < dictionary of symbol identifier -> symbol itself>\n",
    "id_to_token = {i:t for i,t in enumerate(tokens)}"
   ]
  },
  {
   "cell_type": "code",
   "execution_count": 8,
   "metadata": {
    "collapsed": false,
    "deletable": true,
    "editable": true
   },
   "outputs": [
    {
     "data": {
      "image/png": "[encoded data removed]",
      "text/plain": [
       "<matplotlib.figure.Figure at 0x7f4b1924aa58>"
      ]
     },
     "metadata": {},
     "output_type": "display_data"
    }
   ],
   "source": [
    "import matplotlib.pyplot as plt\n",
    "%matplotlib inline\n",
    "plt.hist(list(map(len,names)),bins=25);\n",
    "\n",
    "# truncate names longer than ~80% percentile\n",
    "MAX_LEN = max(map(len,names))\n",
    "\n"
   ]
  },
  {
   "cell_type": "code",
   "execution_count": 9,
   "metadata": {
    "collapsed": false
   },
   "outputs": [
    {
     "data": {
      "text/plain": [
       "169"
      ]
     },
     "execution_count": 9,
     "metadata": {},
     "output_type": "execute_result"
    }
   ],
   "source": [
    "MAX_LEN"
   ]
  },
  {
   "cell_type": "markdown",
   "metadata": {
    "deletable": true,
    "editable": true
   },
   "source": [
    "### Cast everything from symbols into identifiers"
   ]
  },
  {
   "cell_type": "code",
   "execution_count": 10,
   "metadata": {
    "collapsed": false,
    "deletable": true,
    "editable": true
   },
   "outputs": [],
   "source": [
    "names_ix = list(map(lambda name: list(map(token_to_id.get,name)),names))\n",
    "\n",
    "\n",
    "#crop long names and pad short ones\n",
    "for i in range(len(names_ix)):\n",
    "    names_ix[i] = names_ix[i][:MAX_LEN] #crop too long\n",
    "    \n",
    "    if len(names_ix[i]) < MAX_LEN:\n",
    "        names_ix[i] += [token_to_id[\" \"]]*(MAX_LEN - len(names_ix[i])) #pad too short\n",
    "        \n",
    "assert len(set(map(len,names_ix)))==1\n",
    "\n",
    "names_ix = np.array(names_ix)"
   ]
  },
  {
   "cell_type": "markdown",
   "metadata": {
    "deletable": true,
    "editable": true
   },
   "source": [
    "# Input variables"
   ]
  },
  {
   "cell_type": "code",
   "execution_count": 11,
   "metadata": {
    "collapsed": true,
    "deletable": true,
    "editable": true
   },
   "outputs": [],
   "source": [
    "input_sequence = T.matrix('token sequencea','int32')\n",
    "target_values = T.matrix('actual next token','int32')\n"
   ]
  },
  {
   "cell_type": "markdown",
   "metadata": {
    "deletable": true,
    "editable": true
   },
   "source": [
    "# Build NN\n",
    "\n",
    "You will be building a model that takes token sequence and predicts next token\n",
    "\n",
    "\n",
    "* iput sequence\n",
    "* one-hot / embedding\n",
    "* recurrent layer(s)\n",
    "* otput layer(s) that predict output probabilities\n"
   ]
  },
  {
   "cell_type": "code",
   "execution_count": 12,
   "metadata": {
    "collapsed": true,
    "deletable": true,
    "editable": true
   },
   "outputs": [],
   "source": [
    "from lasagne.layers import InputLayer,DenseLayer,EmbeddingLayer\n",
    "from lasagne.layers import RecurrentLayer,LSTMLayer,GRULayer,CustomRecurrentLayer"
   ]
  },
  {
   "cell_type": "code",
   "execution_count": null,
   "metadata": {
    "collapsed": true
   },
   "outputs": [],
   "source": []
  },
  {
   "cell_type": "code",
   "execution_count": 13,
   "metadata": {
    "collapsed": false,
    "deletable": true,
    "editable": true
   },
   "outputs": [],
   "source": [
    "# VANHA oma kopioyritys\n",
    "l_in = lasagne.layers.InputLayer(shape=(None, None),input_var=input_sequence)\n",
    "\n",
    "#!<Your neural network>\n",
    "#l_emb = <embedding layer or one-hot encoding>\n",
    "l_emb = EmbeddingLayer(l_in,len(tokens),32)\n",
    "\n",
    "#l_rnn = <some recurrent layer(or several such layers)>\n",
    "l_rnn = RecurrentLayer(l_emb,32,nonlinearity=T.tanh)\n",
    "\n",
    "#flatten batch and time to be compatible with feedforward layers (will un-flatten later)\n",
    "l_rnn_flat = lasagne.layers.reshape(l_rnn, (-1,l_rnn.output_shape[-1]))\n",
    "\n",
    "#l_out = <last dense layer (or several layers), returning probabilities for all possible next tokens>\n",
    "l_out = DenseLayer(l_rnn_flat,len(tokens),nonlinearity=lasagne.nonlinearities.softmax)\n",
    "\n"
   ]
  },
  {
   "cell_type": "code",
   "execution_count": 14,
   "metadata": {
    "collapsed": true
   },
   "outputs": [],
   "source": [
    "# Uusi koodi\n",
    "l_in = lasagne.layers.InputLayer(shape=(None, None),input_var=input_sequence)\n",
    "\n",
    "#!<Your neural network>\n",
    "l_emb = EmbeddingLayer(l_in,len(tokens),32)\n",
    "\n",
    "l_rnn = RecurrentLayer(l_emb,40,nonlinearity=T.tanh)\n",
    "\n",
    "#flatten batch and time to be compatible with feedforward layers (will un-flatten later)\n",
    "l_rnn_flat = lasagne.layers.reshape(l_rnn, (-1,l_rnn.output_shape[-1]))\n",
    "\n",
    "l_out = DenseLayer(l_rnn_flat,len(tokens),nonlinearity=lasagne.nonlinearities.softmax)\n"
   ]
  },
  {
   "cell_type": "code",
   "execution_count": 15,
   "metadata": {
    "collapsed": true
   },
   "outputs": [],
   "source": [
    "\n",
    "\n",
    "l_in = lasagne.layers.InputLayer(shape=(None, None),input_var=input_sequence)\n",
    "\n",
    "#!<Your neural network>\n",
    "l_emb = EmbeddingLayer(l_in,len(tokens),32)\n",
    "\n",
    "l_rnn = GRULayer(l_emb,40,grad_clipping=10)\n",
    "\n",
    "l_rnn2 = LSTMLayer(l_rnn,80,grad_clipping=10)\n",
    "\n",
    "#flatten batch and time to be compatible with feedforward layers (will un-flatten later)\n",
    "l_rnn_flat = lasagne.layers.reshape(l_rnn2, (-1,l_rnn2.output_shape[-1]))\n",
    "\n",
    "l_out = DenseLayer(l_rnn_flat,len(tokens),nonlinearity=lasagne.nonlinearities.softmax)\n"
   ]
  },
  {
   "cell_type": "code",
   "execution_count": null,
   "metadata": {
    "collapsed": true
   },
   "outputs": [],
   "source": []
  },
  {
   "cell_type": "code",
   "execution_count": 74,
   "metadata": {
    "collapsed": false
   },
   "outputs": [
    {
     "data": {
      "text/plain": [
       "(None, None, 40)"
      ]
     },
     "execution_count": 74,
     "metadata": {},
     "output_type": "execute_result"
    }
   ],
   "source": [
    "l_emb.output_shape\n",
    "l_rnn.output_shape"
   ]
  },
  {
   "cell_type": "code",
   "execution_count": 16,
   "metadata": {
    "collapsed": false,
    "deletable": true,
    "editable": true
   },
   "outputs": [
    {
     "name": "stdout",
     "output_type": "stream",
     "text": [
      "[W, W_in_to_updategate, W_hid_to_updategate, b_updategate, W_in_to_resetgate, W_hid_to_resetgate, b_resetgate, W_in_to_hidden_update, W_hid_to_hidden_update, b_hidden_update, W_in_to_ingate, W_hid_to_ingate, b_ingate, W_in_to_forgetgate, W_hid_to_forgetgate, b_forgetgate, W_in_to_cell, W_hid_to_cell, b_cell, W_in_to_outgate, W_hid_to_outgate, b_outgate, W_cell_to_ingate, W_cell_to_forgetgate, W_cell_to_outgate, W, b]\n"
     ]
    }
   ],
   "source": [
    "# Model weights\n",
    "weights = lasagne.layers.get_all_params(l_out,trainable=True)\n",
    "print( weights)"
   ]
  },
  {
   "cell_type": "code",
   "execution_count": 17,
   "metadata": {
    "collapsed": false,
    "deletable": true,
    "editable": true
   },
   "outputs": [],
   "source": [
    "network_output = lasagne.layers.get_output(l_out)\n",
    "#If you use dropout do not forget to create deterministic version for evaluation"
   ]
  },
  {
   "cell_type": "code",
   "execution_count": 18,
   "metadata": {
    "collapsed": false,
    "deletable": true,
    "editable": true
   },
   "outputs": [],
   "source": [
    "\n",
    "predicted_probabilities_flat = network_output\n",
    "correct_answers_flat = target_values.ravel()\n",
    "\n",
    "loss = T.mean(lasagne.objectives.categorical_crossentropy(predicted_probabilities_flat,correct_answers_flat))\n",
    "\n",
    "updates = lasagne.updates.adam(loss,weights)\n",
    "\n"
   ]
  },
  {
   "cell_type": "markdown",
   "metadata": {
    "deletable": true,
    "editable": true
   },
   "source": [
    "# Compiling it"
   ]
  },
  {
   "cell_type": "code",
   "execution_count": null,
   "metadata": {
    "collapsed": false,
    "deletable": true,
    "editable": true
   },
   "outputs": [],
   "source": [
    "\n",
    "#training\n",
    "train = theano.function([input_sequence, target_values], loss, updates=updates, allow_input_downcast=True)\n",
    "\n",
    "#computing loss without training\n",
    "compute_cost = theano.function([input_sequence, target_values], loss, allow_input_downcast=True)\n"
   ]
  },
  {
   "cell_type": "markdown",
   "metadata": {
    "deletable": true,
    "editable": true
   },
   "source": [
    "# generation\n",
    "\n",
    "Simple: \n",
    "* get initial context(seed), \n",
    "* predict next token probabilities,\n",
    "* sample next token, \n",
    "* add it to the context\n",
    "* repeat from step 2\n",
    "\n",
    "You'll get a more detailed info on how it works in the homework section."
   ]
  },
  {
   "cell_type": "code",
   "execution_count": 37,
   "metadata": {
    "collapsed": true,
    "deletable": true,
    "editable": true
   },
   "outputs": [],
   "source": [
    "#compile the function that computes probabilities for next token given previous text.\n",
    "\n",
    "#reshape back into original shape\n",
    "next_word_probas = network_output.reshape((input_sequence.shape[0],input_sequence.shape[1],len(tokens)))\n",
    "#predictions for next tokens (after sequence end)\n",
    "last_word_probas = next_word_probas[:,-1]\n",
    "probs = theano.function([input_sequence],last_word_probas,allow_input_downcast=True)\n"
   ]
  },
  {
   "cell_type": "code",
   "execution_count": 38,
   "metadata": {
    "collapsed": false,
    "deletable": true,
    "editable": true
   },
   "outputs": [],
   "source": [
    "\n",
    "def generate_sample(seed_phrase=None,N=MAX_LEN,t=1,n_snippets=1):\n",
    "    '''\n",
    "    The function generates text given a phrase of length at least SEQ_LENGTH.\n",
    "        \n",
    "    parameters:\n",
    "        sample_fun - max_ or proportional_sample_fun or whatever else you implemented\n",
    "        \n",
    "        The phrase is set using the variable seed_phrase\n",
    "\n",
    "        The optional input \"N\" is used to set the number of characters of text to predict.     \n",
    "    '''\n",
    "    if seed_phrase is None:\n",
    "        seed_phrase=start_token\n",
    "    if len(seed_phrase) > MAX_LEN:\n",
    "        seed_phrase = seed_phrase[-MAX_LEN:]\n",
    "    assert type(seed_phrase) is str\n",
    "\n",
    "    snippets = []\n",
    "    for _ in range(n_snippets):\n",
    "        sample_ix = []\n",
    "        x = [token_to_id.get(c,0) for c in seed_phrase]\n",
    "        x = np.array([x])\n",
    "\n",
    "        for i in range(N):\n",
    "            # Pick the character that got assigned the highest probability\n",
    "            p = probs(x).ravel()\n",
    "            p = p**t / np.sum(p**t)\n",
    "            ix = np.random.choice(np.arange(len(tokens)),p=p)\n",
    "            sample_ix.append(ix)\n",
    "\n",
    "            x = np.hstack((x[-MAX_LEN+1:],[[ix]]))\n",
    "\n",
    "        random_snippet = seed_phrase + ''.join(id_to_token[ix] for ix in sample_ix)    \n",
    "        snippets.append(random_snippet)\n",
    "        \n",
    "    print(\"----\\n %s \\n----\" % '; '.join(snippets))\n"
   ]
  },
  {
   "cell_type": "code",
   "execution_count": 41,
   "metadata": {
    "collapsed": false
   },
   "outputs": [
    {
     "name": "stdout",
     "output_type": "stream",
     "text": [
      "----\n",
      "  ZKNIscoPlaAZBCIA;  cZIJzzii-rhNoEhC;  VaZaZdZVR-XxIO'Y;  YIoIvrM-mArDWoZn;  DAHdGlfiCAbHghAx;  IynrvQgQdTimdyyt;  glgpBFxYYephdWwk;  mDFbw'UMFc ZMysG;  yKrRaYWfOnXuwFeZ;  RopEpPCKKu ZiXwB \n",
      "----\n"
     ]
    }
   ],
   "source": [
    "generate_sample(t=2,n_snippets=10)"
   ]
  },
  {
   "cell_type": "code",
   "execution_count": 43,
   "metadata": {
    "collapsed": false
   },
   "outputs": [
    {
     "name": "stdout",
     "output_type": "stream",
     "text": [
      "----\n",
      "  Ae'VEkDBUtDx-OAAQ;  AWUmHipCYiLWLdMId;  AVgvVgSIRa'KEkduU;  AYxPaEuWhynFcz pz;  AFflNnMK-hVo zn g;  AMLSUnCiwjx iyjLh;  AhnSTKIvZuS bSpOD;  AgW'MCUKjfl wCwCX;  AqmJaXmztBSVeAQ-a;  AiwjWFvNPS-CpyvFy;  AIxgPWjnHlipmHGuQ;  Ayps'vgI-z-imyzvG;  A'FGpJ BAKzXDRCeh;  ArjSMbZJtdKSVKbdW;  AjjwPY wytDizrozZ;  ApNrPIbiAwHyQRM -;  AlXuAfsLNJLAeMHCQ;  AZqUOSBqFNdLfhIqn;  ASVWgxacgVUSB'llV;  ArSPlyrIbzYJWWkup \n",
      "----\n"
     ]
    }
   ],
   "source": [
    "generate_sample(seed_phrase=\" A\",n_snippets=20)"
   ]
  },
  {
   "cell_type": "markdown",
   "metadata": {
    "deletable": true,
    "editable": true
   },
   "source": [
    "# Model training\n",
    "\n",
    "Here you can tweak parameters or insert your generation function\n",
    "\n",
    "\n",
    "__Once something word-like starts generating, try increasing seq_length__\n",
    "\n"
   ]
  },
  {
   "cell_type": "code",
   "execution_count": 44,
   "metadata": {
    "collapsed": true,
    "deletable": true,
    "editable": true
   },
   "outputs": [],
   "source": [
    "def sample_batch(data, batch_size):\n",
    "    \n",
    "    rows = data[np.random.randint(0,len(data),size=batch_size)]\n",
    "    \n",
    "    return rows[:,:-1],rows[:,1:]"
   ]
  },
  {
   "cell_type": "code",
   "execution_count": 51,
   "metadata": {
    "collapsed": false,
    "deletable": true,
    "editable": true
   },
   "outputs": [
    {
     "name": "stdout",
     "output_type": "stream",
     "text": [
      "Training ...\n",
      "Generated names\n",
      "----\n",
      "  leH'NhuVO-vuyKEq;  EgsjhptFNpbRa eR;  dyYkkFPgbQdrb Cv;  BzPCmCRxH'nOiYOr;  JCWkQH'zJJhxmqOj;  ozpXwtgbFcSZxrUq;  JPhH'nXjgFmOXWqV;  bCcFrXOmSLcsUDqh;  zeTEMy'xvCEybyF';   NLkmAv'jIQchqhS \n",
      "----\n",
      "Epoch 0 average loss = 1.5825711266994476\n",
      "Generated names\n",
      "----\n",
      "  Nylaa           ;  T du       y    ;  Y phlen         ;  AS              ;  Aattri          ;  Caie            ;  Tmhgilere       ;  Oed             ;   sOt            ;  Aaana            \n",
      "----\n",
      "Epoch 1 average loss = 1.1868178197145463\n",
      "Generated names\n",
      "----\n",
      "  jixtla          ;  Yordoe          ;  Kacr            ;  Aano            ;  Dolbe           ;  LeaKei          ;  Biroetmd        ;  Gasevn          ;  Miiy            ;  Badn             \n",
      "----\n",
      "Epoch 2 average loss = 1.1340498864650725\n",
      "Generated names\n",
      "----\n",
      "  Kah             ;  Renta           ;  Blny            ;  Onry            ;  Lanne           ;  Jhia            ;  Arlpin          ;  Aurla           ;  Elanie          ;  Blnen            \n",
      "----\n",
      "Epoch 3 average loss = 1.1122706691026687\n",
      "Generated names\n",
      "----\n",
      "  Dead            ;  Keponfe         ;  Hhifer          ;  Moghay          ;  Irenfe          ;  Seunha          ;  Daskele         ;  Solis           ;  Aney            ;  Kfimnae          \n",
      "----\n",
      "Epoch 4 average loss = 1.0933652005195618\n",
      "Generated names\n",
      "----\n",
      "  Cetcoy          ;  Nenne           ;  Sreg            ;  Karale          ;  Peanhe          ;  Yaela           ;  Mosmange        ;  Zfendel         ;  Milase          ;  Kic              \n",
      "----\n",
      "Epoch 5 average loss = 1.0771741384267808\n",
      "Generated names\n",
      "----\n",
      "  Lovlerly        ;  Fraud           ;  Alumivuen       ;  Hissiey         ;  Ctingynee       ;  Maydie          ;  Blncisuo        ;  Lenk            ;  Lilenia         ;  Wina             \n",
      "----\n",
      "Epoch 6 average loss = 1.0624134403467178\n",
      "Generated names\n",
      "----\n",
      "  Borrise         ;  Garila          ;  Dord            ;  Flebita         ;  Silibe          ;  Rreska          ;  Bidti           ;  Kahhorne        ;  Kerkle          ;  Rydledre         \n",
      "----\n",
      "Epoch 7 average loss = 1.0478858153820039\n",
      "Generated names\n",
      "----\n",
      "  Brene           ;  Blestrend       ;  Endyn           ;  Bularea         ;  Felryesa        ;  Dosty           ;  Okedra          ;  Micann          ;  Dgoyn           ;  Soble            \n",
      "----\n",
      "Epoch 8 average loss = 1.0430346200466156\n",
      "Generated names\n",
      "----\n",
      "  Widyna          ;  Gisha           ;  Blitlie         ;  Lanka           ;  Doritellaie     ;  Duda            ;  Garolenn        ;  Odarn           ;  Liottole        ;  Baro             \n",
      "----\n",
      "Epoch 9 average loss = 1.0391358517408371\n",
      "Generated names\n",
      "----\n",
      "  Relied          ;  Borulay         ;  Fdolnellilea    ;  Rorian          ;  Kerthectan      ;  Renzy           ;  Chritueso       ;   Farme          ;  Alila           ;  Lise             \n",
      "----\n",
      "Epoch 10 average loss = 1.0267715463638305\n",
      "Generated names\n",
      "----\n",
      "  Peniene         ;  Cellie          ;  Tlelyt          ;  STe             ;  Romiana         ;  Bern            ;  Kallier         ;  Jenia           ;  Willery         ;  Chrenela         \n",
      "----\n",
      "Epoch 11 average loss = 1.0239110726118088\n",
      "Generated names\n",
      "----\n",
      "  Monthonda       ;  Fanina          ;  Jedia           ;  Rodie           ;  Beviua          ;  Barfleo         ;  Tabiew          ;  Hatiand         ;  Mardy           ;  Neceoemy         \n",
      "----\n",
      "Epoch 12 average loss = 1.011825022816658\n",
      "Generated names\n",
      "----\n",
      "  Flevies         ;  Gide            ;  Labemy          ;  Melfice         ;  Con             ;  Rianell         ;  Rebolily        ;  Agarda          ;  Baro            ;  Lara             \n",
      "----\n",
      "Epoch 13 average loss = 1.0076110763549804\n",
      "Generated names\n",
      "----\n",
      "  Fwervia         ;  Aman            ;  Grillinda       ;  Derish          ;  Lelertue        ;  Tad             ;  Romellie        ;  Love            ;  Aniele          ;  Rooc             \n",
      "----\n",
      "Epoch 14 average loss = 1.0103914074897766\n",
      "Generated names\n",
      "----\n",
      "  Iamen           ;  Girudre         ;  Lelon           ;  Redil           ;  Laga            ;  Garine          ;  Loi             ;  Amtorita        ;  Artan           ;  Cars             \n",
      "----\n",
      "Epoch 15 average loss = 1.0041343367099762\n",
      "Generated names\n",
      "----\n",
      "  Allyna          ;  Laina           ;  Cornallon       ;  Cartresar       ;  Naramaun        ;  Roforsen        ;  Thab            ;  Vaus            ;  Edbon           ;  Gediel           \n",
      "----\n"
     ]
    },
    {
     "ename": "KeyboardInterrupt",
     "evalue": "",
     "output_type": "error",
     "traceback": [
      "\u001b[0;31m---------------------------------------------------------------------------\u001b[0m",
      "\u001b[0;31mKeyboardInterrupt\u001b[0m                         Traceback (most recent call last)",
      "\u001b[0;32m<ipython-input-51-99bb3f7a4506>\u001b[0m in \u001b[0;36m<module>\u001b[0;34m()\u001b[0m\n\u001b[1;32m     23\u001b[0m \u001b[0;34m\u001b[0m\u001b[0m\n\u001b[1;32m     24\u001b[0m         \u001b[0mx\u001b[0m\u001b[0;34m,\u001b[0m\u001b[0my\u001b[0m \u001b[0;34m=\u001b[0m \u001b[0msample_batch\u001b[0m\u001b[0;34m(\u001b[0m\u001b[0mnames_ix\u001b[0m\u001b[0;34m,\u001b[0m\u001b[0mbatch_size\u001b[0m\u001b[0;34m)\u001b[0m\u001b[0;34m\u001b[0m\u001b[0m\n\u001b[0;32m---> 25\u001b[0;31m         \u001b[0mavg_cost\u001b[0m \u001b[0;34m+=\u001b[0m \u001b[0mtrain\u001b[0m\u001b[0;34m(\u001b[0m\u001b[0mx\u001b[0m\u001b[0;34m,\u001b[0m \u001b[0my\u001b[0m\u001b[0;34m)\u001b[0m\u001b[0;34m\u001b[0m\u001b[0m\n\u001b[0m\u001b[1;32m     26\u001b[0m \u001b[0;34m\u001b[0m\u001b[0m\n\u001b[1;32m     27\u001b[0m     \u001b[0mprint\u001b[0m\u001b[0;34m(\u001b[0m\u001b[0;34m\"Epoch {} average loss = {}\"\u001b[0m\u001b[0;34m.\u001b[0m\u001b[0mformat\u001b[0m\u001b[0;34m(\u001b[0m\u001b[0mepoch\u001b[0m\u001b[0;34m,\u001b[0m \u001b[0mavg_cost\u001b[0m \u001b[0;34m/\u001b[0m \u001b[0mbatches_per_epoch\u001b[0m\u001b[0;34m)\u001b[0m\u001b[0;34m)\u001b[0m\u001b[0;34m\u001b[0m\u001b[0m\n",
      "\u001b[0;32m/homeappl/home/mohakala/.local/lib/python3.4/site-packages/theano/compile/function_module.py\u001b[0m in \u001b[0;36m__call__\u001b[0;34m(self, *args, **kwargs)\u001b[0m\n\u001b[1;32m    882\u001b[0m         \u001b[0;32mtry\u001b[0m\u001b[0;34m:\u001b[0m\u001b[0;34m\u001b[0m\u001b[0m\n\u001b[1;32m    883\u001b[0m             \u001b[0moutputs\u001b[0m \u001b[0;34m=\u001b[0m\u001b[0;31m\\\u001b[0m\u001b[0;34m\u001b[0m\u001b[0m\n\u001b[0;32m--> 884\u001b[0;31m                 \u001b[0mself\u001b[0m\u001b[0;34m.\u001b[0m\u001b[0mfn\u001b[0m\u001b[0;34m(\u001b[0m\u001b[0;34m)\u001b[0m \u001b[0;32mif\u001b[0m \u001b[0moutput_subset\u001b[0m \u001b[0;32mis\u001b[0m \u001b[0;32mNone\u001b[0m \u001b[0;32melse\u001b[0m\u001b[0;31m\\\u001b[0m\u001b[0;34m\u001b[0m\u001b[0m\n\u001b[0m\u001b[1;32m    885\u001b[0m                 \u001b[0mself\u001b[0m\u001b[0;34m.\u001b[0m\u001b[0mfn\u001b[0m\u001b[0;34m(\u001b[0m\u001b[0moutput_subset\u001b[0m\u001b[0;34m=\u001b[0m\u001b[0moutput_subset\u001b[0m\u001b[0;34m)\u001b[0m\u001b[0;34m\u001b[0m\u001b[0m\n\u001b[1;32m    886\u001b[0m         \u001b[0;32mexcept\u001b[0m \u001b[0mException\u001b[0m\u001b[0;34m:\u001b[0m\u001b[0;34m\u001b[0m\u001b[0m\n",
      "\u001b[0;32m/homeappl/home/mohakala/.local/lib/python3.4/site-packages/theano/scan_module/scan_op.py\u001b[0m in \u001b[0;36mrval\u001b[0;34m(p, i, o, n, allow_gc)\u001b[0m\n\u001b[1;32m    953\u001b[0m         \u001b[0mallow_gc\u001b[0m \u001b[0;34m=\u001b[0m \u001b[0mconfig\u001b[0m\u001b[0;34m.\u001b[0m\u001b[0mallow_gc\u001b[0m \u001b[0;32mand\u001b[0m \u001b[0;32mnot\u001b[0m \u001b[0mself\u001b[0m\u001b[0;34m.\u001b[0m\u001b[0mallow_gc\u001b[0m\u001b[0;34m\u001b[0m\u001b[0m\n\u001b[1;32m    954\u001b[0m \u001b[0;34m\u001b[0m\u001b[0m\n\u001b[0;32m--> 955\u001b[0;31m         def rval(p=p, i=node_input_storage, o=node_output_storage, n=node,\n\u001b[0m\u001b[1;32m    956\u001b[0m                  allow_gc=allow_gc):\n\u001b[1;32m    957\u001b[0m             \u001b[0mr\u001b[0m \u001b[0;34m=\u001b[0m \u001b[0mp\u001b[0m\u001b[0;34m(\u001b[0m\u001b[0mn\u001b[0m\u001b[0;34m,\u001b[0m \u001b[0;34m[\u001b[0m\u001b[0mx\u001b[0m\u001b[0;34m[\u001b[0m\u001b[0;36m0\u001b[0m\u001b[0;34m]\u001b[0m \u001b[0;32mfor\u001b[0m \u001b[0mx\u001b[0m \u001b[0;32min\u001b[0m \u001b[0mi\u001b[0m\u001b[0;34m]\u001b[0m\u001b[0;34m,\u001b[0m \u001b[0mo\u001b[0m\u001b[0;34m)\u001b[0m\u001b[0;34m\u001b[0m\u001b[0m\n",
      "\u001b[0;31mKeyboardInterrupt\u001b[0m: "
     ]
    }
   ],
   "source": [
    "\n",
    "print(\"Training ...\")\n",
    "\n",
    "\n",
    "#total N iterations\n",
    "n_epochs=100\n",
    "\n",
    "# how many minibatches are there in the epoch \n",
    "batches_per_epoch = 500\n",
    "\n",
    "#how many training sequences are processed in a single function call\n",
    "batch_size=10\n",
    "\n",
    "\n",
    "for epoch in range(n_epochs):\n",
    "\n",
    "    print (\"Generated names\")\n",
    "    generate_sample(n_snippets=10)\n",
    "\n",
    "    avg_cost = 0;\n",
    "    \n",
    "    for _ in range(batches_per_epoch):\n",
    "        \n",
    "        x,y = sample_batch(names_ix,batch_size)\n",
    "        avg_cost += train(x, y)\n",
    "        \n",
    "    print(\"Epoch {} average loss = {}\".format(epoch, avg_cost / batches_per_epoch))\n",
    "\n"
   ]
  },
  {
   "cell_type": "code",
   "execution_count": null,
   "metadata": {
    "collapsed": true,
    "deletable": true,
    "editable": true
   },
   "outputs": [],
   "source": []
  },
  {
   "cell_type": "code",
   "execution_count": 53,
   "metadata": {
    "collapsed": false,
    "deletable": true,
    "editable": true
   },
   "outputs": [
    {
     "name": "stdout",
     "output_type": "stream",
     "text": [
      "----\n",
      "  COtke           ;  Anse            ;  Korie           ;  Leorec          ;  Berno           ;  Chamyna         ;  Mavey           ;  Carherni        ;  Mautin          ;  Laahzamia       ;  Jelik           ;  Redetth         ;  Frlfey          ;  Pania           ;  Bboda           ;  Daralela        ;  Naw             ;  Brista          ;  Jona            ;  Alsonde         ;  Catt            ;  Avby            ;  Jucie           ;  Harite          ;  Ketelto    e    ;  Wui             ;  Verina          ;  Herdenn         ;  Tawl            ;  Gevinne         ;  Bedra           ;  Elie            ;  Kalla           ;  Bunci           ;  Fari            ;  Panna           ;  Refenia         ;  Cavarde         ;  Herice          ;  Jesee           ;  Stelya          ;  Bledastt        ;  Yabe            ;  Hatleltte       ;  Erika           ;  Edrie           ;  Carnine         ;  Eggat           ;  Naudine         ;  Rteynne         ;  Icores          ;  Mostand         ;  ShaMera         ;  Jeett           ;  Harvie          ;  Lesey           ;  Bannand         ;  Fimanie         ;  Viriann         ;  Anistale        ;  Alsisha         ;  Alver           ;  Juks            ;  Manine          ;  Camdri          ;  Lwemal          ;  Delen           ;  Juripha         ;  Tan             ;  Karelor         ;  Ponea           ;  Ebrema          ;  Ellyny          ;  Angrina         ;  Jeyna           ;  Adbike          ;  Sherda          ;  Wachelse        ;  Joxiora         ;  Japiy           ;  Aland           ;  Wannen          ;  Auckie          ;  Buvor           ;  Gave            ;  Dorlelip        ;  Kinrea          ;  Adela           ;  Cyrens          ;  Eliadra         ;  Padnis          ;  Arike           ;  Sauthe          ;  Iepte           ;  Barit           ;  Goran           ;  Tabbia          ;  Mord            ;  Lelfine         ;  Kerna            \n",
      "----\n"
     ]
    }
   ],
   "source": [
    "generate_sample(n_snippets=100)\n"
   ]
  },
  {
   "cell_type": "code",
   "execution_count": 60,
   "metadata": {
    "collapsed": false,
    "deletable": true,
    "editable": true
   },
   "outputs": [
    {
     "name": "stdout",
     "output_type": "stream",
     "text": [
      "----\n",
      "  Astone           ;  Aegre            ;  Ansty            ;  Autola           ;  Albaerna          \n",
      "----\n"
     ]
    }
   ],
   "source": [
    "generate_sample(seed_phrase=\" A\",n_snippets=5)"
   ]
  }
 ],
 "metadata": {
  "kernelspec": {
   "display_name": "Python 3",
   "language": "python",
   "name": "python3"
  },
  "language_info": {
   "codemirror_mode": {
    "name": "ipython",
    "version": 3
   },
   "file_extension": ".py",
   "mimetype": "text/x-python",
   "name": "python",
   "nbconvert_exporter": "python",
   "pygments_lexer": "ipython3",
   "version": "3.4.5"
  }
 },
 "nbformat": 4,
 "nbformat_minor": 0
}
